{
  "nbformat": 4,
  "nbformat_minor": 0,
  "metadata": {
    "colab": {
      "name": "hw_2 _fin.ipynb",
      "provenance": [],
      "collapsed_sections": []
    },
    "kernelspec": {
      "name": "python3",
      "display_name": "Python 3"
    }
  },
  "cells": [
    {
      "cell_type": "code",
      "metadata": {
        "id": "CUYb8T1aDvhX",
        "outputId": "896edab4-5719-4f57-c496-447b53308454",
        "colab": {
          "base_uri": "https://localhost:8080/",
          "height": 134
        }
      },
      "source": [
        "from natasha import (\n",
        "    Segmenter,\n",
        "    MorphVocab,\n",
        "    NewsEmbedding,\n",
        "    NewsMorphTagger,\n",
        "    NewsSyntaxParser,\n",
        "    NewsNERTagger,\n",
        "    PER,\n",
        "    NamesExtractor,\n",
        "    Doc\n",
        ")\n",
        "from pymorphy2 import MorphAnalyzer\n",
        "m = MorphAnalyzer()\n",
        "from pymystem3 import Mystem\n",
        "mystem = Mystem()\n",
        "import spacy\n",
        "import flair\n",
        "from flair.data import Sentence\n",
        "from flair.models import SequenceTagger\n",
        "tagger = SequenceTagger.load('pos')\n",
        "import nltk\n",
        "nltk.download('punkt')\n",
        "nltk.download('averaged_perceptron_tagger')\n",
        "from nltk.tokenize import word_tokenize\n",
        "from string import punctuation\n",
        "punctuation = punctuation + '—–“”«»'\n",
        "from sklearn.metrics import accuracy_score\n",
        "import re"
      ],
      "execution_count": null,
      "outputs": [
        {
          "output_type": "stream",
          "text": [
            "2020-10-18 15:07:08,490 loading file /root/.flair/models/en-pos-ontonotes-v0.5.pt\n",
            "[nltk_data] Downloading package punkt to /root/nltk_data...\n",
            "[nltk_data]   Package punkt is already up-to-date!\n",
            "[nltk_data] Downloading package averaged_perceptron_tagger to\n",
            "[nltk_data]     /root/nltk_data...\n",
            "[nltk_data]   Package averaged_perceptron_tagger is already up-to-\n",
            "[nltk_data]       date!\n"
          ],
          "name": "stdout"
        }
      ]
    },
    {
      "cell_type": "code",
      "metadata": {
        "id": "d4Q3eWaL2ZBG",
        "outputId": "9caa0f86-6798-47f4-bb6e-798e47b85294",
        "colab": {
          "base_uri": "https://localhost:8080/",
          "height": 302
        }
      },
      "source": [
        "!wget http://download.cdn.yandex.net/mystem/mystem-3.0-linux3.1-64bit.tar.gz\n",
        "!tar -xvf mystem-3.0-linux3.1-64bit.tar.gz\n",
        "!cp mystem /root/.local/bin/mystem"
      ],
      "execution_count": null,
      "outputs": [
        {
          "output_type": "stream",
          "text": [
            "--2020-10-18 15:07:11--  http://download.cdn.yandex.net/mystem/mystem-3.0-linux3.1-64bit.tar.gz\n",
            "Resolving download.cdn.yandex.net (download.cdn.yandex.net)... 5.45.205.244, 5.45.205.245, 5.45.205.243, ...\n",
            "Connecting to download.cdn.yandex.net (download.cdn.yandex.net)|5.45.205.244|:80... connected.\n",
            "HTTP request sent, awaiting response... 302 Found\n",
            "Location: http://cache-mskm905.cdn.yandex.net/download.cdn.yandex.net/mystem/mystem-3.0-linux3.1-64bit.tar.gz [following]\n",
            "--2020-10-18 15:07:11--  http://cache-mskm905.cdn.yandex.net/download.cdn.yandex.net/mystem/mystem-3.0-linux3.1-64bit.tar.gz\n",
            "Resolving cache-mskm905.cdn.yandex.net (cache-mskm905.cdn.yandex.net)... 5.45.220.15, 2a02:6b8:0:2002::16\n",
            "Connecting to cache-mskm905.cdn.yandex.net (cache-mskm905.cdn.yandex.net)|5.45.220.15|:80... connected.\n",
            "HTTP request sent, awaiting response... 200 OK\n",
            "Length: 16457938 (16M) [application/octet-stream]\n",
            "Saving to: ‘mystem-3.0-linux3.1-64bit.tar.gz.3’\n",
            "\n",
            "mystem-3.0-linux3.1 100%[===================>]  15.70M  8.78MB/s    in 1.8s    \n",
            "\n",
            "2020-10-18 15:07:13 (8.78 MB/s) - ‘mystem-3.0-linux3.1-64bit.tar.gz.3’ saved [16457938/16457938]\n",
            "\n",
            "mystem\n"
          ],
          "name": "stdout"
        }
      ]
    },
    {
      "cell_type": "code",
      "metadata": {
        "id": "E0OmUEBxZu4a"
      },
      "source": [
        "#причастие - VERB\n",
        "#аббревиатура - NOUN\n",
        "#местоимение - PRON"
      ],
      "execution_count": null,
      "outputs": []
    },
    {
      "cell_type": "code",
      "metadata": {
        "id": "3gwW8xJOD4Lg"
      },
      "source": [
        "rus_texts = ['НКРЯ - мой самый любимый корпус.', 'Собака, пробегавшая мимо, зачем-то начала яростно гавкать.', 'Мой друг Петр говорит по-русски очень плохо.', \n",
        "             'Я люблю готовить, слушая музыку.', 'Вчера в Сан-Франциско шел ливень.', 'Я был там две недели назад и видел ели.', 'У нее темно-синее платье.', \n",
        "             'Я набрал семьдесят четыре балла по матеше.', 'Я купил пурпурную портативную зарядку.', 'Из-за него мы опоздали на концерт.', 'Я люблю есть люля-кебаб.',\n",
        "             'Выпив чай, я отправился на прогулку и убрал айпад.', 'А расширение границ прямо противоречит международным договорам, соглашениям, документам ООН.', \n",
        "             'Перед сном из блокнота всё переписал набело.', 'Вчера мой отец завел новый фотосправочник.', 'Это всё из-за моего бывшего.', 'Чем бы дитя не тешилось, лишь бы не плакало.', \n",
        "             'Марианна была ультраженственной в этот вечер.', 'Вася, смотри как я висю на ветке!', 'Несомненно, это была тюрбо.', 'Он написал этот текст ручками с грезитвой.']\n",
        "rus_tags = ['NOUN PRON PRON ADJ NOUN', 'NOUN VERB ADV ADV VERB ADV VERB', 'PRON NOUN NOUN VERB ADV ADV ADV',\n",
        "            'PRON VERB VERB VERB NOUN', 'ADV PREP NOUN VERB NOUN', 'PRON VERB PRON NUM NOUN ADV CONJ VERB NOUN', 'PREP PRON ADJ NOUN',\n",
        "            'PRON VERB NUM NUM NOUN PREP NOUN', 'PRON VERB ADJ ADJ NOUN', 'PREP PRON PRON VERB PREP NOUN', 'PRON VERB VERB NOUN',\n",
        "            'VERB NOUN PRON VERB PREP NOUN CONJ VERB NOUN', 'CONJ NOUN NOUN ADV VERB ADJ NOUN NOUN NOUN NOUN', \n",
        "            'PREP NOUN PREP NOUN PRON VERB ADV', 'ADV PRON NOUN VERB ADJ NOUN', 'PRON PRON PREP PRON ADJ', 'CONJ PART NOUN PART VERB PART PART PART VERB',\n",
        "            'NOUN VERB ADJ PREP PRON NOUN', 'NOUN VERB CONJ PRON VERB PREP NOUN', 'ADV PRON VERB NOUN', 'PRON VERB PRON NOUN NOUN CONJ NOUN']"
      ],
      "execution_count": null,
      "outputs": []
    },
    {
      "cell_type": "code",
      "metadata": {
        "id": "JNF0zrfBK4tr"
      },
      "source": [
        "eng_texts = ['I have a lot of gold.', 'His abduction and imprisonment of Pamela, his over-riding jealousy of Mr. Williams and later of the child Pamela is about to bear him.',\n",
        "             'Every morning Mary goes for a run.', 'Paul enjoys a drink.', 'It is mine!', 'Yesterday I bought three oranges, it was the best decision of the day.',\n",
        "             'I buy green very often, it is good for my health.', 'She was beautiful, that tall, skinny, twenty-year-old girl.', 'I goed to the cinema with Mark yesterday.', \n",
        "             'Mr Lacayo said UNO would receive two million dollars of the US aid.', \n",
        "             'Thereza Imanishi-Kari, who was then an immunologist at the Massachusetts Institute of Technology (MIT).', 'Felix who will live in the centre with Bro.']\n",
        "eng_tags = ['PRON VERB ART ADV PREP NOUN', 'PRON NOUN CONJ NOUN PREP NOUN PRON ADJ NOUN PREP NOUN NOUN CONJ NOUN PREP ART NOUN NOUN VERB ADV PREP VERB PRON',\n",
        "            'ADJ NOUN NOUN VERB PREP ART NOUN', 'NOUN VERB ART NOUN', 'PRON VERB PRON', 'ADV PRON VERB NUM NOUN PRON VERB ART ADJ NOUN PREP ART NOUN',\n",
        "            'PRON VERB NOUN ADV ADV PRON VERB ADV PREP PRON NOUN', 'PRON VERB ADJ PRON ADJ ADJ ADJ NOUN', 'PRON VERB PREP ART NOUN CONJ NOUN ADV',\n",
        "            'NOUN NOUN VERB NOUN VERB VERB NUM NUM NOUN PREP ART ADJ NOUN', \n",
        "            'NOUN NOUN PRON VERB PRON ART NOUN PREP ART NOUN NOUN PREP NOUN NOUN', 'NOUN PRON VERB VERB PREP ART NOUN CONJ NOUN']"
      ],
      "execution_count": null,
      "outputs": []
    },
    {
      "cell_type": "code",
      "metadata": {
        "id": "SgooTu2fQyJE"
      },
      "source": [
        "def clean(texts_list, tags_list):\n",
        "  clean_list = []\n",
        "  new_tags_list = []\n",
        "  for i in texts_list:\n",
        "    i = i.lower()\n",
        "    for p in punctuation:\n",
        "      if p in i:\n",
        "        i = i.replace(p, '')\n",
        "        i = i.replace('  ', ' ')\n",
        "    i = i.split(' ')\n",
        "    for n in i:\n",
        "      clean_list.append(n)\n",
        "    new_tags_list = []\n",
        "  for tag in tags_list:\n",
        "    tag = tag.split(' ')\n",
        "    for t in tag:\n",
        "      new_tags_list.append(t)\n",
        "  return clean_list, new_tags_list"
      ],
      "execution_count": null,
      "outputs": []
    },
    {
      "cell_type": "code",
      "metadata": {
        "id": "81Ur8TktjfJK"
      },
      "source": [
        "good = clean(rus_texts, rus_tags)"
      ],
      "execution_count": null,
      "outputs": []
    },
    {
      "cell_type": "code",
      "metadata": {
        "id": "wOZ-Y2RsRR7w"
      },
      "source": [
        "good_eng = clean(eng_texts, eng_tags)"
      ],
      "execution_count": null,
      "outputs": []
    },
    {
      "cell_type": "markdown",
      "metadata": {
        "id": "JFySxf6p241q"
      },
      "source": [
        "## **PYMORPHY2**"
      ]
    },
    {
      "cell_type": "code",
      "metadata": {
        "id": "71K9pwQdjk4O"
      },
      "source": [
        "pymorphy_tags = []\n",
        "for i in good[0]:\n",
        "  parse = m.parse(i)[0].tag.POS\n",
        "  pymorphy_tags.append(parse)"
      ],
      "execution_count": null,
      "outputs": []
    },
    {
      "cell_type": "code",
      "metadata": {
        "id": "ZpSZnvQKm5ah"
      },
      "source": [
        "new_pymorphy_tags = []\n",
        "for p in pymorphy_tags:\n",
        "  p = p.replace('PRCL', 'PART')\n",
        "  p = p.replace('ADJF', 'ADJ')\n",
        "  p = p.replace('ADJS', 'ADJ')\n",
        "  p = p.replace('ADVB', 'ADV')\n",
        "  p = p.replace('COMP', 'ADJ')\n",
        "  p = p.replace('GRND', 'VERB')\n",
        "  p = p.replace('INFN', 'VERB')\n",
        "  p = p.replace('PRTF', 'VERB')\n",
        "  p = p.replace('PRTS', 'VERB')\n",
        "  p = p.replace('NPRO', 'PRON')\n",
        "  p = p.replace('NUMR', 'NUM')\n",
        "  p = p.replace('PRED', 'ADV')\n",
        "  new_pymorphy_tags.append(p)"
      ],
      "execution_count": null,
      "outputs": []
    },
    {
      "cell_type": "code",
      "metadata": {
        "id": "WPqUPRCjqVOz",
        "outputId": "a239b052-94d3-46ca-8e68-359df52b2e32",
        "colab": {
          "base_uri": "https://localhost:8080/",
          "height": 34
        }
      },
      "source": [
        "accuracy_score(good[1], new_pymorphy_tags)"
      ],
      "execution_count": null,
      "outputs": [
        {
          "output_type": "execute_result",
          "data": {
            "text/plain": [
              "0.835820895522388"
            ]
          },
          "metadata": {
            "tags": []
          },
          "execution_count": 48
        }
      ]
    },
    {
      "cell_type": "markdown",
      "metadata": {
        "id": "LdJ3R3wR2uO_"
      },
      "source": [
        "## **NATASHA**"
      ]
    },
    {
      "cell_type": "code",
      "metadata": {
        "id": "T1b06EUatVO_"
      },
      "source": [
        "segmenter = Segmenter()\n",
        "emb = NewsEmbedding()\n",
        "morph_tagger = NewsMorphTagger(emb)\n",
        "syntax_parser = NewsSyntaxParser(emb)\n",
        "ner_tagger = NewsNERTagger(emb)"
      ],
      "execution_count": null,
      "outputs": []
    },
    {
      "cell_type": "code",
      "metadata": {
        "id": "9kXqFqMgvUUt"
      },
      "source": [
        "natasha_tags = []\n",
        "n = ''\n",
        "for i in good[0]:\n",
        "  n += i + ' '\n",
        "doc = Doc(n)\n",
        "doc.segment(segmenter)\n",
        "doc.tag_morph(morph_tagger)\n",
        "for d in doc.tokens:\n",
        "  natasha_tags.append(d.pos)"
      ],
      "execution_count": null,
      "outputs": []
    },
    {
      "cell_type": "code",
      "metadata": {
        "id": "JdzqCEbRwHdY"
      },
      "source": [
        "new_natasha_tags = []\n",
        "for n in natasha_tags:\n",
        "  n = re.sub('^AUX$', 'VERB', n)\n",
        "  n = re.sub('^SCONJ$', 'CONJ', n)\n",
        "  n = re.sub('^ADP$', 'PREP', n)\n",
        "  n = re.sub('^CCONJ$', 'CONJ', n)\n",
        "  new_natasha_tags.append(n)"
      ],
      "execution_count": null,
      "outputs": []
    },
    {
      "cell_type": "code",
      "metadata": {
        "id": "Ur9ktXE3_NIO",
        "outputId": "6f114a25-24b3-47f9-8f40-c5b7d17cf68e",
        "colab": {
          "base_uri": "https://localhost:8080/",
          "height": 34
        }
      },
      "source": [
        "accuracy_score(good[1], new_natasha_tags)"
      ],
      "execution_count": null,
      "outputs": [
        {
          "output_type": "execute_result",
          "data": {
            "text/plain": [
              "0.835820895522388"
            ]
          },
          "metadata": {
            "tags": []
          },
          "execution_count": 52
        }
      ]
    },
    {
      "cell_type": "markdown",
      "metadata": {
        "id": "DBrmGzaD3ljw"
      },
      "source": [
        "## **PYMYSTEM3**"
      ]
    },
    {
      "cell_type": "code",
      "metadata": {
        "id": "FkTGssIZzjAy"
      },
      "source": [
        "mystem_tags = []\n",
        "for i in good[0]:\n",
        "  m = mystem.analyze(i)\n",
        "  gr = m[0]['analysis'][0]['gr']\n",
        "  pos = gr.split('=')[0].split(',')[0]\n",
        "  mystem_tags.append(pos)"
      ],
      "execution_count": null,
      "outputs": []
    },
    {
      "cell_type": "code",
      "metadata": {
        "id": "ro8nOMh-1PST"
      },
      "source": [
        "new_mystem_tags = []\n",
        "for mt in mystem_tags:\n",
        "  mt = re.sub('^ADVPRO$', 'ADV', mt)\n",
        "  mt = re.sub('^ANUM$', 'NUM', mt)\n",
        "  mt = re.sub('^APRO$', 'PRON', mt)\n",
        "  mt = re.sub('^SPRO$', 'PRON', mt)\n",
        "  mt = re.sub('^PR$', 'PREP', mt)\n",
        "  mt = re.sub('^S$', 'NOUN', mt)\n",
        "  mt = re.sub('^V$', 'VERB', mt)\n",
        "  mt = re.sub('^A$', 'ADJ', mt)\n",
        "  new_mystem_tags.append(mt)"
      ],
      "execution_count": null,
      "outputs": []
    },
    {
      "cell_type": "code",
      "metadata": {
        "id": "ZCak7Ol79ZEu",
        "outputId": "342f4e73-1b67-4b59-cdbe-2511fe8f8a82",
        "colab": {
          "base_uri": "https://localhost:8080/",
          "height": 34
        }
      },
      "source": [
        "accuracy_score(good[1], new_mystem_tags)"
      ],
      "execution_count": null,
      "outputs": [
        {
          "output_type": "execute_result",
          "data": {
            "text/plain": [
              "0.9104477611940298"
            ]
          },
          "metadata": {
            "tags": []
          },
          "execution_count": 55
        }
      ]
    },
    {
      "cell_type": "markdown",
      "metadata": {
        "id": "SWNHdshERn07"
      },
      "source": [
        "## **SpaCy**"
      ]
    },
    {
      "cell_type": "code",
      "metadata": {
        "id": "AOaIeZwK--iQ"
      },
      "source": [
        "spacy_tags = []\n",
        "nlp = spacy.load(\"en_core_web_sm\")\n",
        "s = ''\n",
        "for i in good_eng[0]:\n",
        "  s += i + ' '\n",
        "doc = nlp(s)\n",
        "for token in doc:\n",
        "    spacy_tags.append(token.pos_)"
      ],
      "execution_count": null,
      "outputs": []
    },
    {
      "cell_type": "code",
      "metadata": {
        "id": "wbQjwMgjTTUQ"
      },
      "source": [
        "new_spacy_tags = []\n",
        "for sp in spacy_tags:\n",
        "  sp = re.sub('^PROPN$', 'PRON', sp)\n",
        "  sp = re.sub('^ADP$', 'PREP', sp)\n",
        "  sp = re.sub('^AUX$', 'VERB', sp)\n",
        "  sp = re.sub('^SCONJ$', 'CONJ', sp)\n",
        "  sp = re.sub('^CCONJ$', 'CONJ', sp)\n",
        "  new_spacy_tags.append(sp)"
      ],
      "execution_count": null,
      "outputs": []
    },
    {
      "cell_type": "code",
      "metadata": {
        "id": "7jXNBm7zV8xL",
        "outputId": "b7cf6123-4701-4f77-9572-61c9090e7eba",
        "colab": {
          "base_uri": "https://localhost:8080/",
          "height": 34
        }
      },
      "source": [
        "accuracy_score(good_eng[1], new_spacy_tags)"
      ],
      "execution_count": null,
      "outputs": [
        {
          "output_type": "execute_result",
          "data": {
            "text/plain": [
              "0.6134453781512605"
            ]
          },
          "metadata": {
            "tags": []
          },
          "execution_count": 71
        }
      ]
    },
    {
      "cell_type": "markdown",
      "metadata": {
        "id": "rTv1l2jtWOc0"
      },
      "source": [
        "## **Flair**"
      ]
    },
    {
      "cell_type": "code",
      "metadata": {
        "id": "yDENqptSXcQS"
      },
      "source": [
        "flair_tags = []\n",
        "sentence = Sentence(s)\n",
        "tagger.predict(sentence)\n",
        "tagged_str = sentence.to_tagged_string()\n",
        "tags_list = re.findall('<.*?>', tagged_str)\n",
        "for tag in tags_list:\n",
        "  tag = tag.replace('<', '')\n",
        "  tag = tag.replace('>', '')\n",
        "  flair_tags.append(tag)"
      ],
      "execution_count": null,
      "outputs": []
    },
    {
      "cell_type": "code",
      "metadata": {
        "id": "3tHRZBWmZcr2"
      },
      "source": [
        "new_flair_tags = []\n",
        "for fl in flair_tags:\n",
        "  fl = re.sub('^PRP\\$$', 'PRON', fl)\n",
        "  fl = re.sub('^RB$', 'ADV', fl)\n",
        "  fl = re.sub('^PRP$', 'PRON', fl)\n",
        "  fl = re.sub('^RBR$', 'ADV', fl)\n",
        "  fl = re.sub('^RBS$', 'ADV', fl)\n",
        "  fl = re.sub('^RP$', 'PART', fl)\n",
        "  fl = re.sub('^NS$', 'NOUN', fl)\n",
        "  fl = re.sub('^VB$', 'VERB', fl)\n",
        "  fl = re.sub('^VBD$', 'VERB', fl)\n",
        "  fl = re.sub('^VBG$', 'VERB', fl)\n",
        "  fl = re.sub('^VBN$', 'VERB', fl)\n",
        "  fl = re.sub('^VBP$', 'VERB', fl)\n",
        "  fl = re.sub('^VBZ$', 'VERB', fl)\n",
        "  fl = re.sub('^JJ$', 'ADJ', fl)\n",
        "  fl = re.sub('^WP$', 'PRON', fl)\n",
        "  fl = re.sub('^IN$', 'PREP', fl)\n",
        "  fl = re.sub('^JJR$', 'ADJ', fl)\n",
        "  fl = re.sub('^JJS$', 'ADJ', fl)\n",
        "  fl = re.sub('^NN$', 'NOUN', fl)\n",
        "  fl = re.sub('^NNP$', 'NOUN', fl)\n",
        "  fl = re.sub('^NNS$', 'NOUN', fl)\n",
        "  fl = re.sub('^CC$', 'CONJ', fl)\n",
        "  fl = re.sub('^CD$', 'NUM', fl)\n",
        "  fl = re.sub('^MD$', 'VERB', fl)\n",
        "  fl = re.sub('^TO$', 'PREP', fl)\n",
        "  new_flair_tags.append(fl)"
      ],
      "execution_count": null,
      "outputs": []
    },
    {
      "cell_type": "code",
      "metadata": {
        "id": "lbn7_pU0bLVa",
        "outputId": "4d6d4f42-d89d-4e8f-a226-16373d37cccc",
        "colab": {
          "base_uri": "https://localhost:8080/",
          "height": 34
        }
      },
      "source": [
        "accuracy_score(good_eng[1], new_flair_tags)"
      ],
      "execution_count": null,
      "outputs": [
        {
          "output_type": "execute_result",
          "data": {
            "text/plain": [
              "0.7647058823529411"
            ]
          },
          "metadata": {
            "tags": []
          },
          "execution_count": 61
        }
      ]
    },
    {
      "cell_type": "markdown",
      "metadata": {
        "id": "6RVA7uPPYIbN"
      },
      "source": [
        "# **NLTK**"
      ]
    },
    {
      "cell_type": "code",
      "metadata": {
        "id": "nUZmXAPBYWGj"
      },
      "source": [
        "nltk_tags = []\n",
        "text = word_tokenize(s)\n",
        "tags_l = nltk.pos_tag(text)\n",
        "for l in tags_l:\n",
        "  nltk_tags.append(l[1])"
      ],
      "execution_count": null,
      "outputs": []
    },
    {
      "cell_type": "code",
      "metadata": {
        "id": "Pulde_AHaIWN"
      },
      "source": [
        "new_nltk_tags = []\n",
        "for nl in nltk_tags:\n",
        "  nl = re.sub('^PRP\\$$', 'PRON', nl)\n",
        "  nl = re.sub('^RB$', 'ADV', nl)\n",
        "  nl = re.sub('^PRP$', 'PRON', nl)\n",
        "  nl = re.sub('^RBR$', 'ADV', nl)\n",
        "  nl = re.sub('^RBS$', 'ADV', nl)\n",
        "  nl = re.sub('^RP$', 'PART', nl)\n",
        "  nl = re.sub('^NS$', 'NOUN', nl)\n",
        "  nl = re.sub('^VB$', 'VERB', nl)\n",
        "  nl = re.sub('^VBD$', 'VERB', nl)\n",
        "  nl = re.sub('^VBG$', 'VERB', nl)\n",
        "  nl = re.sub('^VBN$', 'VERB', nl)\n",
        "  nl = re.sub('^VBP$', 'VERB', nl)\n",
        "  nl = re.sub('^VBZ$', 'VERB', nl)\n",
        "  nl = re.sub('^JJ$', 'ADJ', nl)\n",
        "  nl = re.sub('^WP$', 'PRON', nl)\n",
        "  nl = re.sub('^IN$', 'PREP', nl)\n",
        "  nl = re.sub('^JJR$', 'ADJ', nl)\n",
        "  nl = re.sub('^JJS$', 'ADJ', nl)\n",
        "  nl = re.sub('^NN$', 'NOUN', nl)\n",
        "  nl = re.sub('^NNP$', 'NOUN', nl)\n",
        "  nl = re.sub('^NNS$', 'NOUN', nl)\n",
        "  nl = re.sub('^CC$', 'CONJ', nl)\n",
        "  nl = re.sub('^CD$', 'NUM', nl)\n",
        "  nl = re.sub('^MD$', 'VERB', nl)\n",
        "  nl = re.sub('^TO$', 'PREP', nl)\n",
        "  new_nltk_tags.append(nl)"
      ],
      "execution_count": null,
      "outputs": []
    },
    {
      "cell_type": "code",
      "metadata": {
        "id": "DM7XfC65coyy",
        "outputId": "86ba540c-ff86-40fb-87ee-0c5c1dcc960f",
        "colab": {
          "base_uri": "https://localhost:8080/",
          "height": 34
        }
      },
      "source": [
        "accuracy_score(good_eng[1], new_nltk_tags)"
      ],
      "execution_count": null,
      "outputs": [
        {
          "output_type": "execute_result",
          "data": {
            "text/plain": [
              "0.7226890756302521"
            ]
          },
          "metadata": {
            "tags": []
          },
          "execution_count": 64
        }
      ]
    },
    {
      "cell_type": "code",
      "metadata": {
        "id": "M1x-b14Ia8td"
      },
      "source": [
        ""
      ],
      "execution_count": null,
      "outputs": []
    }
  ]
}